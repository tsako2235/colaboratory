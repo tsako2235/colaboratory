{
  "nbformat": 4,
  "nbformat_minor": 0,
  "metadata": {
    "colab": {
      "name": "Untitled0.ipynb",
      "version": "0.3.2",
      "provenance": [],
      "collapsed_sections": [],
      "include_colab_link": true
    },
    "kernelspec": {
      "name": "python3",
      "display_name": "Python 3"
    }
  },
  "cells": [
    {
      "cell_type": "markdown",
      "metadata": {
        "id": "view-in-github",
        "colab_type": "text"
      },
      "source": [
        "<a href=\"https://colab.research.google.com/github/tsako2235/colaboratory/blob/master/Untitled0.ipynb\" target=\"_parent\"><img src=\"https://colab.research.google.com/assets/colab-badge.svg\" alt=\"Open In Colab\"/></a>"
      ]
    },
    {
      "metadata": {
        "id": "gno8DuTgEA_V",
        "colab_type": "code",
        "colab": {
          "base_uri": "https://localhost:8080/",
          "height": 122
        },
        "outputId": "d527a3bd-c7b2-4ff0-a368-a9448872f838"
      },
      "cell_type": "code",
      "source": [
        "import random\n",
        "\n",
        "print('じゃんけんスタート')\n",
        "\n",
        "print('あなたの手を入力してください')\n",
        "my_hand = int(input('0:グー, 1:チョキ, 2:パー'))\n",
        "you_hand = random.randint(0, 2)\n",
        "\n",
        "# 自分の手\n",
        "print('自分の手' +  str(my_hand))\n",
        "# 相手の手\n",
        "print('相手の手' +  str(you_hand))\n",
        "\n",
        "if my_hand == 0:\n",
        "  # 自分グー\n",
        "  if you_hand == 0:\n",
        "    # 自分グー、相手グー\n",
        "    print('あいこ')\n",
        "  elif you_hand == 1:\n",
        "    # 自分グー、相手チョキ\n",
        "    print('勝ち')\n",
        "elif my_hand == 1:\n",
        "  if you_hand == 0:\n",
        "    # 自分チョキ、相手グー\n",
        "    print('負け')\n",
        "  elif you_hand == 1:\n",
        "    # 自分チョキ、相手チョキ\n",
        "    print('あいこ')\n",
        "  elif you_hand == 2:\n",
        "      print('勝ち')\n",
        "elif my_hand == 2:\n",
        "  # 自分パー\n",
        "  if you_hand == 0:\n",
        "    # 自分パー、相手グー\n",
        "    print('勝ち')\n",
        "  elif you_hand == 1:\n",
        "    # 自分パー、相手チョキ\n",
        "    print('負け')\n",
        "  elif you_hand == 2:\n",
        "    print(\"あいこ\")"
      ],
      "execution_count": 12,
      "outputs": [
        {
          "output_type": "stream",
          "text": [
            "じゃんけんスタート\n",
            "あなたの手を入力してください\n",
            "0:グー, 1:チョキ, 2:パー1\n",
            "自分の手1\n",
            "相手の手1\n",
            "あいこ\n"
          ],
          "name": "stdout"
        }
      ]
    }
  ]
}